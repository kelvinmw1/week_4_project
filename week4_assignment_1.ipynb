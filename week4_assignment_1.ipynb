{
  "nbformat": 4,
  "nbformat_minor": 0,
  "metadata": {
    "colab": {
      "provenance": [],
      "authorship_tag": "ABX9TyNZReX0ldVacz/9exKQlznZ",
      "include_colab_link": true
    },
    "kernelspec": {
      "name": "python3",
      "display_name": "Python 3"
    },
    "language_info": {
      "name": "python"
    }
  },
  "cells": [
    {
      "cell_type": "markdown",
      "metadata": {
        "id": "view-in-github",
        "colab_type": "text"
      },
      "source": [
        "<a href=\"https://colab.research.google.com/github/kelvinmw1/week_4_project/blob/main/week4_assignment_1.ipynb\" target=\"_parent\"><img src=\"https://colab.research.google.com/assets/colab-badge.svg\" alt=\"Open In Colab\"/></a>"
      ]
    },
    {
      "cell_type": "code",
      "execution_count": 1,
      "metadata": {
        "colab": {
          "base_uri": "https://localhost:8080/"
        },
        "id": "s4Ln5Q0lNhsL",
        "outputId": "4069d486-4b34-4c35-b29e-d88dd7cff7a4"
      },
      "outputs": [
        {
          "output_type": "stream",
          "name": "stdout",
          "text": [
            "Yes\n"
          ]
        }
      ],
      "source": [
        "# a palindrome is a string that reads the same foorward and backward\n",
        "# This function returns the reverse of a string\n",
        "\n",
        "def isPalindrome(s):\n",
        "    return s == s[::-1]\n",
        "\n",
        "s = \"malayalam\"\n",
        "ans = isPalindrome(s)\n",
        "\n",
        "if ans:\n",
        "    print(\"Yes\")\n",
        "else:\n",
        "    print(\"No\")\n"
      ]
    },
    {
      "cell_type": "code",
      "source": [
        "#list comprehension 1\n",
        "#here we want to filter out the car brands with the letter o in their name\n",
        "\n",
        "car_brands = [\"toyota\", \"subaru\", \"lexus\", \"honda\", \"peugeot\"]\n",
        "newlist = [x for x in car_brands if \"o\" in x]\n",
        "\n",
        "print(newlist)"
      ],
      "metadata": {
        "colab": {
          "base_uri": "https://localhost:8080/"
        },
        "id": "mkBPTdd7YXOd",
        "outputId": "8c4a8458-2ef6-4e9d-d256-6f1278955f8a"
      },
      "execution_count": 2,
      "outputs": [
        {
          "output_type": "stream",
          "name": "stdout",
          "text": [
            "['toyota', 'honda', 'peugeot']\n"
          ]
        }
      ]
    },
    {
      "cell_type": "code",
      "source": [
        "#list comprehension 2\n",
        "\n",
        "car_brands = [\"subaru\", \"chrystler\", \"Audi\", \"Ford\", \"Mercedes\"]\n",
        "\n",
        "newlist = [x for x in car_brands if x != \"subaru\"]\n",
        "\n",
        "print(newlist)"
      ],
      "metadata": {
        "colab": {
          "base_uri": "https://localhost:8080/"
        },
        "id": "PrIMBEPBZi09",
        "outputId": "43b67eb2-aecf-4277-d395-a11b3ac31c74"
      },
      "execution_count": 5,
      "outputs": [
        {
          "output_type": "stream",
          "name": "stdout",
          "text": [
            "['chrystler', 'Audi', 'Ford', 'Mercedes']\n"
          ]
        }
      ]
    },
    {
      "cell_type": "code",
      "source": [
        "#list comprehension 3\n",
        "\n",
        "list = [x for x in range(1000) if x < 500]\n",
        "\n",
        "print(list)"
      ],
      "metadata": {
        "colab": {
          "base_uri": "https://localhost:8080/"
        },
        "id": "ZBN_nvQDZxoT",
        "outputId": "54528fb8-11a1-4e83-a498-68586bc2d6e1"
      },
      "execution_count": 7,
      "outputs": [
        {
          "output_type": "stream",
          "name": "stdout",
          "text": [
            "[0, 1, 2, 3, 4, 5, 6, 7, 8, 9, 10, 11, 12, 13, 14, 15, 16, 17, 18, 19, 20, 21, 22, 23, 24, 25, 26, 27, 28, 29, 30, 31, 32, 33, 34, 35, 36, 37, 38, 39, 40, 41, 42, 43, 44, 45, 46, 47, 48, 49, 50, 51, 52, 53, 54, 55, 56, 57, 58, 59, 60, 61, 62, 63, 64, 65, 66, 67, 68, 69, 70, 71, 72, 73, 74, 75, 76, 77, 78, 79, 80, 81, 82, 83, 84, 85, 86, 87, 88, 89, 90, 91, 92, 93, 94, 95, 96, 97, 98, 99, 100, 101, 102, 103, 104, 105, 106, 107, 108, 109, 110, 111, 112, 113, 114, 115, 116, 117, 118, 119, 120, 121, 122, 123, 124, 125, 126, 127, 128, 129, 130, 131, 132, 133, 134, 135, 136, 137, 138, 139, 140, 141, 142, 143, 144, 145, 146, 147, 148, 149, 150, 151, 152, 153, 154, 155, 156, 157, 158, 159, 160, 161, 162, 163, 164, 165, 166, 167, 168, 169, 170, 171, 172, 173, 174, 175, 176, 177, 178, 179, 180, 181, 182, 183, 184, 185, 186, 187, 188, 189, 190, 191, 192, 193, 194, 195, 196, 197, 198, 199, 200, 201, 202, 203, 204, 205, 206, 207, 208, 209, 210, 211, 212, 213, 214, 215, 216, 217, 218, 219, 220, 221, 222, 223, 224, 225, 226, 227, 228, 229, 230, 231, 232, 233, 234, 235, 236, 237, 238, 239, 240, 241, 242, 243, 244, 245, 246, 247, 248, 249, 250, 251, 252, 253, 254, 255, 256, 257, 258, 259, 260, 261, 262, 263, 264, 265, 266, 267, 268, 269, 270, 271, 272, 273, 274, 275, 276, 277, 278, 279, 280, 281, 282, 283, 284, 285, 286, 287, 288, 289, 290, 291, 292, 293, 294, 295, 296, 297, 298, 299, 300, 301, 302, 303, 304, 305, 306, 307, 308, 309, 310, 311, 312, 313, 314, 315, 316, 317, 318, 319, 320, 321, 322, 323, 324, 325, 326, 327, 328, 329, 330, 331, 332, 333, 334, 335, 336, 337, 338, 339, 340, 341, 342, 343, 344, 345, 346, 347, 348, 349, 350, 351, 352, 353, 354, 355, 356, 357, 358, 359, 360, 361, 362, 363, 364, 365, 366, 367, 368, 369, 370, 371, 372, 373, 374, 375, 376, 377, 378, 379, 380, 381, 382, 383, 384, 385, 386, 387, 388, 389, 390, 391, 392, 393, 394, 395, 396, 397, 398, 399, 400, 401, 402, 403, 404, 405, 406, 407, 408, 409, 410, 411, 412, 413, 414, 415, 416, 417, 418, 419, 420, 421, 422, 423, 424, 425, 426, 427, 428, 429, 430, 431, 432, 433, 434, 435, 436, 437, 438, 439, 440, 441, 442, 443, 444, 445, 446, 447, 448, 449, 450, 451, 452, 453, 454, 455, 456, 457, 458, 459, 460, 461, 462, 463, 464, 465, 466, 467, 468, 469, 470, 471, 472, 473, 474, 475, 476, 477, 478, 479, 480, 481, 482, 483, 484, 485, 486, 487, 488, 489, 490, 491, 492, 493, 494, 495, 496, 497, 498, 499]\n"
          ]
        }
      ]
    },
    {
      "cell_type": "code",
      "source": [
        "#compound datatypes\n",
        "# 1. lists these are items that can be change/mutable and are enclosed in square brackets\n",
        "\n",
        "my_list = ['jack','mathenge','doreen','mark']\n",
        "print (my_list)"
      ],
      "metadata": {
        "colab": {
          "base_uri": "https://localhost:8080/"
        },
        "id": "-s0lXTrQaS_-",
        "outputId": "d25df7e8-eb77-4cee-dfea-1dd06911d836"
      },
      "execution_count": 8,
      "outputs": [
        {
          "output_type": "stream",
          "name": "stdout",
          "text": [
            "['jack', 'mathenge', 'doreen', 'mark']\n"
          ]
        }
      ]
    },
    {
      "cell_type": "code",
      "source": [
        "#compound datatypes\n",
        "#2. tuple is enclosed in parentheses and the elements inside cannot be modified after being created\n",
        "\n",
        "my_tuple = ('toyota', 'subaru', 'audi', 'mercedes')\n",
        "print (my_tuple)"
      ],
      "metadata": {
        "colab": {
          "base_uri": "https://localhost:8080/"
        },
        "id": "AJNd26uEd7g_",
        "outputId": "ba7ceed0-fb40-434e-ec01-6435575218f9"
      },
      "execution_count": 10,
      "outputs": [
        {
          "output_type": "stream",
          "name": "stdout",
          "text": [
            "('toyota', 'subaru', 'audi', 'mercedes')\n"
          ]
        }
      ]
    },
    {
      "cell_type": "markdown",
      "source": [],
      "metadata": {
        "id": "S6zvMd3fdO0H"
      }
    },
    {
      "cell_type": "code",
      "source": [
        "#compound datatypes\n",
        "#3. dictionaries are a collection of key value pairs where each key is associated with a value. they are mutable\n",
        "\n",
        "my_dictionary = {\n",
        "    'make':'toyota',\n",
        "    'model': 'camry',\n",
        "    'year': '2020'\n",
        "}\n",
        "print (my_dictionary)"
      ],
      "metadata": {
        "colab": {
          "base_uri": "https://localhost:8080/"
        },
        "id": "MJOkXUExe_Zr",
        "outputId": "a5aae62f-bf79-4c69-caac-438963224fdd"
      },
      "execution_count": 13,
      "outputs": [
        {
          "output_type": "stream",
          "name": "stdout",
          "text": [
            "{'make': 'toyota', 'model': 'camry', 'year': '2020'}\n"
          ]
        }
      ]
    },
    {
      "cell_type": "code",
      "source": [],
      "metadata": {
        "id": "Ho46cUxgfdHA"
      },
      "execution_count": null,
      "outputs": []
    }
  ]
}